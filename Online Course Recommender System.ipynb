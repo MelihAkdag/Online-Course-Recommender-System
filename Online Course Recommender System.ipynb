{
 "cells": [
  {
   "cell_type": "markdown",
   "metadata": {},
   "source": [
    "# Basic Recommender System for Online Courses by Category Selection\n",
    "\n",
    "In this study I will analyse MIT and Harvard Online Courses data set and create a basic recommendation system based on course category.\n",
    "\n",
    "By choosing from the four main course category, system will recommend top 5 rated and popular courses in that category."
   ]
  },
  {
   "cell_type": "code",
   "execution_count": 74,
   "metadata": {},
   "outputs": [],
   "source": [
    "# LOADING NECESSARY LIBRARIES\n",
    "\n",
    "import pandas as pd\n",
    "import numpy as np\n",
    "import matplotlib.pyplot as plt\n",
    "import seaborn as sns\n",
    "from warnings import filterwarnings\n",
    "filterwarnings('ignore')"
   ]
  },
  {
   "cell_type": "code",
   "execution_count": 75,
   "metadata": {},
   "outputs": [],
   "source": [
    "# READING THE DATA SET\n",
    "\n",
    "data = pd.read_csv('course_data.csv')\n",
    "df = data.copy()\n",
    "pd.options.display.max_columns = 23"
   ]
  },
  {
   "cell_type": "code",
   "execution_count": 76,
   "metadata": {},
   "outputs": [],
   "source": [
    "# ELIMINATING UNNECESSARY COLUMNS\n",
    "\n",
    "df = df.drop(columns=['Launch Date', 'Year', 'Honor Code Certificates', '% Certified of > 50% Course Content Accessed',\n",
    "                      '% Played Video', '% Grade Higher Than Zero', 'Total Course Hours (Thousands)',\n",
    "                      'Median Hours for Certification'])\n",
    "df.head()"
   ]
  },
  {
   "cell_type": "code",
   "execution_count": 78,
   "metadata": {},
   "outputs": [
    {
     "data": {
      "text/plain": [
       "Institution                                0\n",
       "Course Number                              0\n",
       "Course Title                               0\n",
       "Instructors                                1\n",
       "Course Subject                             0\n",
       "Participants (Course Content Accessed)     0\n",
       "Audited (> 50% Course Content Accessed)    0\n",
       "Certified                                  0\n",
       "% Audited                                  0\n",
       "% Certified                                0\n",
       "% Posted in Forum                          0\n",
       "Median Age                                 0\n",
       "% Male                                     0\n",
       "% Female                                   0\n",
       "% Bachelor's Degree or Higher              0\n",
       "dtype: int64"
      ]
     },
     "execution_count": 78,
     "metadata": {},
     "output_type": "execute_result"
    }
   ],
   "source": [
    "# IS THERE ANY NAN VALUE IN THE DATA SET?\n",
    "\n",
    "df.isnull().sum()"
   ]
  },
  {
   "cell_type": "code",
   "execution_count": 79,
   "metadata": {},
   "outputs": [],
   "source": [
    "# DEALING THE NAN DATA\n",
    "\n",
    "df['Instructors'] = df['Instructors'].fillna('-')"
   ]
  },
  {
   "cell_type": "code",
   "execution_count": 80,
   "metadata": {},
   "outputs": [
    {
     "name": "stdout",
     "output_type": "stream",
     "text": [
      "<class 'pandas.core.frame.DataFrame'>\n",
      "RangeIndex: 290 entries, 0 to 289\n",
      "Data columns (total 15 columns):\n",
      "Institution                                290 non-null object\n",
      "Course Number                              290 non-null object\n",
      "Course Title                               290 non-null object\n",
      "Instructors                                290 non-null object\n",
      "Course Subject                             290 non-null object\n",
      "Participants (Course Content Accessed)     290 non-null int64\n",
      "Audited (> 50% Course Content Accessed)    290 non-null int64\n",
      "Certified                                  290 non-null int64\n",
      "% Audited                                  290 non-null float64\n",
      "% Certified                                290 non-null float64\n",
      "% Posted in Forum                          290 non-null float64\n",
      "Median Age                                 290 non-null float64\n",
      "% Male                                     290 non-null float64\n",
      "% Female                                   290 non-null float64\n",
      "% Bachelor's Degree or Higher              290 non-null float64\n",
      "dtypes: float64(7), int64(3), object(5)\n",
      "memory usage: 34.1+ KB\n"
     ]
    }
   ],
   "source": [
    "# ANALYSING THE DATA TYPES\n",
    "\n",
    "df.info()"
   ]
  },
  {
   "cell_type": "code",
   "execution_count": 81,
   "metadata": {},
   "outputs": [
    {
     "data": {
      "text/plain": [
       "MITx        161\n",
       "HarvardX    129\n",
       "Name: Institution, dtype: int64"
      ]
     },
     "execution_count": 81,
     "metadata": {},
     "output_type": "execute_result"
    },
    {
     "data": {
      "image/png": "[encoded data removed]",
      "text/plain": [
       "<Figure size 432x288 with 1 Axes>"
      ]
     },
     "metadata": {},
     "output_type": "display_data"
    }
   ],
   "source": [
    "# COURSE SUPPLIERS\n",
    "\n",
    "sns.countplot(x='Institution', data=df);\n",
    "df['Institution'].value_counts()"
   ]
  },
  {
   "cell_type": "code",
   "execution_count": 111,
   "metadata": {},
   "outputs": [
    {
     "data": {
      "image/png": "[encoded data removed]",
      "text/plain": [
       "<Figure size 432x288 with 1 Axes>"
      ]
     },
     "metadata": {},
     "output_type": "display_data"
    }
   ],
   "source": [
    "# AGE DISTRIBUTION FOR ALL OF THE COURSES\n",
    "\n",
    "df['Median Age'].hist()\n",
    "plt.title('Age Distribution For All the Courses')\n",
    "plt.xlabel('Student Ages');"
   ]
  },
  {
   "cell_type": "code",
   "execution_count": 83,
   "metadata": {},
   "outputs": [
    {
     "name": "stdout",
     "output_type": "stream",
     "text": [
      "Humanities, History, Design, Religion, and Education    94\n",
      "Science, Technology, Engineering, and Mathematics       91\n",
      "Government, Health, and Social Science                  75\n",
      "Computer Science                                        30\n",
      "Name: Course Subject, dtype: int64\n"
     ]
    },
    {
     "data": {
      "image/png": "[encoded data removed]",
      "text/plain": [
       "<Figure size 432x288 with 1 Axes>"
      ]
     },
     "metadata": {},
     "output_type": "display_data"
    }
   ],
   "source": [
    "# ANALYSING THE COURSE CATEGORIES\n",
    "\n",
    "print(df['Course Subject'].value_counts())\n",
    "df['Course Subject'].value_counts().plot(kind='barh')\n",
    "plt.title('Nu of Courses in the Subject Category');"
   ]
  },
  {
   "cell_type": "code",
   "execution_count": 84,
   "metadata": {},
   "outputs": [
    {
     "data": {
      "text/html": [
       "<div>\n",
       "<style scoped>\n",
       "    .dataframe tbody tr th:only-of-type {\n",
       "        vertical-align: middle;\n",
       "    }\n",
       "\n",
       "    .dataframe tbody tr th {\n",
       "        vertical-align: top;\n",
       "    }\n",
       "\n",
       "    .dataframe thead th {\n",
       "        text-align: right;\n",
       "    }\n",
       "</style>\n",
       "<table border=\"1\" class=\"dataframe\">\n",
       "  <thead>\n",
       "    <tr style=\"text-align: right;\">\n",
       "      <th></th>\n",
       "      <th>count</th>\n",
       "      <th>mean</th>\n",
       "      <th>std</th>\n",
       "      <th>min</th>\n",
       "      <th>25%</th>\n",
       "      <th>50%</th>\n",
       "      <th>75%</th>\n",
       "      <th>max</th>\n",
       "    </tr>\n",
       "  </thead>\n",
       "  <tbody>\n",
       "    <tr>\n",
       "      <th>Participants (Course Content Accessed)</th>\n",
       "      <td>290.0</td>\n",
       "      <td>15344.334483</td>\n",
       "      <td>28207.578733</td>\n",
       "      <td>322.00</td>\n",
       "      <td>3815.0000</td>\n",
       "      <td>7901.500</td>\n",
       "      <td>18038.2500</td>\n",
       "      <td>301082.00</td>\n",
       "    </tr>\n",
       "    <tr>\n",
       "      <th>Audited (&gt; 50% Course Content Accessed)</th>\n",
       "      <td>290.0</td>\n",
       "      <td>2549.172414</td>\n",
       "      <td>3095.159969</td>\n",
       "      <td>187.00</td>\n",
       "      <td>755.2500</td>\n",
       "      <td>1517.000</td>\n",
       "      <td>3383.0000</td>\n",
       "      <td>25637.00</td>\n",
       "    </tr>\n",
       "    <tr>\n",
       "      <th>Certified</th>\n",
       "      <td>290.0</td>\n",
       "      <td>843.810345</td>\n",
       "      <td>1105.594372</td>\n",
       "      <td>0.00</td>\n",
       "      <td>139.5000</td>\n",
       "      <td>395.500</td>\n",
       "      <td>1201.7500</td>\n",
       "      <td>5783.00</td>\n",
       "    </tr>\n",
       "    <tr>\n",
       "      <th>% Audited</th>\n",
       "      <td>290.0</td>\n",
       "      <td>24.916966</td>\n",
       "      <td>15.883538</td>\n",
       "      <td>2.63</td>\n",
       "      <td>14.2150</td>\n",
       "      <td>20.425</td>\n",
       "      <td>33.8375</td>\n",
       "      <td>83.96</td>\n",
       "    </tr>\n",
       "    <tr>\n",
       "      <th>% Certified</th>\n",
       "      <td>290.0</td>\n",
       "      <td>7.782586</td>\n",
       "      <td>6.972437</td>\n",
       "      <td>0.00</td>\n",
       "      <td>2.4075</td>\n",
       "      <td>5.950</td>\n",
       "      <td>10.6875</td>\n",
       "      <td>33.98</td>\n",
       "    </tr>\n",
       "    <tr>\n",
       "      <th>% Posted in Forum</th>\n",
       "      <td>290.0</td>\n",
       "      <td>9.347517</td>\n",
       "      <td>7.517141</td>\n",
       "      <td>0.00</td>\n",
       "      <td>3.9925</td>\n",
       "      <td>7.245</td>\n",
       "      <td>14.1075</td>\n",
       "      <td>35.28</td>\n",
       "    </tr>\n",
       "    <tr>\n",
       "      <th>Median Age</th>\n",
       "      <td>290.0</td>\n",
       "      <td>29.300000</td>\n",
       "      <td>4.047897</td>\n",
       "      <td>22.00</td>\n",
       "      <td>26.0000</td>\n",
       "      <td>29.000</td>\n",
       "      <td>31.0000</td>\n",
       "      <td>53.00</td>\n",
       "    </tr>\n",
       "    <tr>\n",
       "      <th>% Male</th>\n",
       "      <td>290.0</td>\n",
       "      <td>67.010690</td>\n",
       "      <td>15.843642</td>\n",
       "      <td>25.24</td>\n",
       "      <td>54.1700</td>\n",
       "      <td>66.515</td>\n",
       "      <td>81.6325</td>\n",
       "      <td>93.44</td>\n",
       "    </tr>\n",
       "    <tr>\n",
       "      <th>% Female</th>\n",
       "      <td>290.0</td>\n",
       "      <td>32.989310</td>\n",
       "      <td>15.843642</td>\n",
       "      <td>6.56</td>\n",
       "      <td>18.3675</td>\n",
       "      <td>33.485</td>\n",
       "      <td>45.8300</td>\n",
       "      <td>74.76</td>\n",
       "    </tr>\n",
       "    <tr>\n",
       "      <th>% Bachelor's Degree or Higher</th>\n",
       "      <td>290.0</td>\n",
       "      <td>72.078724</td>\n",
       "      <td>10.256434</td>\n",
       "      <td>44.95</td>\n",
       "      <td>64.5150</td>\n",
       "      <td>73.055</td>\n",
       "      <td>79.2450</td>\n",
       "      <td>98.11</td>\n",
       "    </tr>\n",
       "  </tbody>\n",
       "</table>\n",
       "</div>"
      ],
      "text/plain": [
       "                                         count          mean           std  \\\n",
       "Participants (Course Content Accessed)   290.0  15344.334483  28207.578733   \n",
       "Audited (> 50% Course Content Accessed)  290.0   2549.172414   3095.159969   \n",
       "Certified                                290.0    843.810345   1105.594372   \n",
       "% Audited                                290.0     24.916966     15.883538   \n",
       "% Certified                              290.0      7.782586      6.972437   \n",
       "% Posted in Forum                        290.0      9.347517      7.517141   \n",
       "Median Age                               290.0     29.300000      4.047897   \n",
       "% Male                                   290.0     67.010690     15.843642   \n",
       "% Female                                 290.0     32.989310     15.843642   \n",
       "% Bachelor's Degree or Higher            290.0     72.078724     10.256434   \n",
       "\n",
       "                                            min        25%       50%  \\\n",
       "Participants (Course Content Accessed)   322.00  3815.0000  7901.500   \n",
       "Audited (> 50% Course Content Accessed)  187.00   755.2500  1517.000   \n",
       "Certified                                  0.00   139.5000   395.500   \n",
       "% Audited                                  2.63    14.2150    20.425   \n",
       "% Certified                                0.00     2.4075     5.950   \n",
       "% Posted in Forum                          0.00     3.9925     7.245   \n",
       "Median Age                                22.00    26.0000    29.000   \n",
       "% Male                                    25.24    54.1700    66.515   \n",
       "% Female                                   6.56    18.3675    33.485   \n",
       "% Bachelor's Degree or Higher             44.95    64.5150    73.055   \n",
       "\n",
       "                                                75%        max  \n",
       "Participants (Course Content Accessed)   18038.2500  301082.00  \n",
       "Audited (> 50% Course Content Accessed)   3383.0000   25637.00  \n",
       "Certified                                 1201.7500    5783.00  \n",
       "% Audited                                   33.8375      83.96  \n",
       "% Certified                                 10.6875      33.98  \n",
       "% Posted in Forum                           14.1075      35.28  \n",
       "Median Age                                  31.0000      53.00  \n",
       "% Male                                      81.6325      93.44  \n",
       "% Female                                    45.8300      74.76  \n",
       "% Bachelor's Degree or Higher               79.2450      98.11  "
      ]
     },
     "execution_count": 84,
     "metadata": {},
     "output_type": "execute_result"
    }
   ],
   "source": [
    "# INITIAL STATISTICS OF THE COLUMNS\n",
    "\n",
    "df.describe().T"
   ]
  },
  {
   "cell_type": "markdown",
   "metadata": {},
   "source": [
    "## Demographic Recommendation\n",
    "\n",
    "### 1. By Course Weight (Rating)\n",
    "\n",
    "Course Weight = ((Nu of Students of the Course / Nu of All Students) x 0.60) + (Forum Posts x 0.30) + (Aquiered Certifications x 0.10)"
   ]
  },
  {
   "cell_type": "code",
   "execution_count": 113,
   "metadata": {},
   "outputs": [],
   "source": [
    "# CREATING COURSE WEIGHT COLUMN\n",
    "\n",
    "df['Weight Avg'] = ((df['Participants (Course Content Accessed)'] / df['Participants (Course Content Accessed)'].sum())*0.60) + (df['% Posted in Forum']*0.30)+(df['% Certified']*0.10)"
   ]
  },
  {
   "cell_type": "code",
   "execution_count": 86,
   "metadata": {},
   "outputs": [],
   "source": [
    "# ERASING THE DUPLICATED COURSES\n",
    "\n",
    "df_new = df.drop_duplicates(subset=['Course Number', 'Course Title'], keep=False)"
   ]
  },
  {
   "cell_type": "code",
   "execution_count": 129,
   "metadata": {},
   "outputs": [],
   "source": [
    "# TOP 10 COURSES BY RATING\n",
    "\n",
    "df_present1 = df_new[['Course Title', 'Course Subject', 'Participants (Course Content Accessed)', '% Audited', '% Certified', \n",
    "                      '% Posted in Forum', 'Weight Avg']].sort_values(by=['Weight Avg'], ascending=False).head(10)"
   ]
  },
  {
   "cell_type": "markdown",
   "metadata": {},
   "source": [
    "### 2. By Number of Students"
   ]
  },
  {
   "cell_type": "code",
   "execution_count": 130,
   "metadata": {},
   "outputs": [],
   "source": [
    "# TOP 1O COURSES BY PARTICIPANTS\n",
    "\n",
    "df_present2 = df_new[['Course Title', 'Course Subject', 'Participants (Course Content Accessed)', '% Audited', '% Certified', \n",
    "                      '% Posted in Forum', 'Weight Avg']].sort_values(by=['Participants (Course Content Accessed)'], ascending=False).head(10)"
   ]
  },
  {
   "cell_type": "code",
   "execution_count": 131,
   "metadata": {},
   "outputs": [
    {
     "data": {
      "image/png": "[encoded data removed]",
      "text/plain": [
       "<Figure size 576x864 with 2 Axes>"
      ]
     },
     "metadata": {},
     "output_type": "display_data"
    }
   ],
   "source": [
    "# COMPARISON OF TOP 10 COURSES BY RATING AND POPULARITY\n",
    "\n",
    "plt.figure(figsize=(8,12))\n",
    "plt.subplot(2,1,1)\n",
    "plt.barh(df_present1['Course Title'].head(10), df_present1['Weight Avg'].head(10), color='orange')\n",
    "plt.gca().invert_yaxis()\n",
    "plt.title('Top 10 Courses by Rating')\n",
    "plt.xlabel('Course Rating')\n",
    "\n",
    "plt.subplot(2,1,2)\n",
    "plt.barh(df_present2['Course Title'].head(10), df_present2['Participants (Course Content Accessed)'].head(10), color='purple')\n",
    "plt.gca().invert_yaxis()\n",
    "plt.title('Top 10 Courses by Number of Students')\n",
    "plt.xlabel('Number of Students');"
   ]
  },
  {
   "cell_type": "markdown",
   "metadata": {},
   "source": [
    "## Category Base Recommendation"
   ]
  },
  {
   "cell_type": "code",
   "execution_count": 90,
   "metadata": {},
   "outputs": [],
   "source": [
    "# COURSE CATEGORIES\n",
    "\n",
    "subject_list = list(df_new['Course Subject'].unique())\n",
    "subject_dict = {'a': subject_list[0], 'b': subject_list[1], 'c': subject_list[2], 'd': subject_list[3]}"
   ]
  },
  {
   "cell_type": "code",
   "execution_count": 107,
   "metadata": {},
   "outputs": [],
   "source": [
    "# CREATING FUNCTION TO RECOMMEND TOP 5 COURSES BY CATEGORY SELECTION \n",
    "\n",
    "def recommend():\n",
    "    print('a) ', subject_dict['a'])\n",
    "    print('b) ', subject_dict['b'])\n",
    "    print('c) ', subject_dict['c'])\n",
    "    print('d) ', subject_dict['d'])\n",
    "    \n",
    "    user_input = input('\\nChoose the subject you want to learn: \\n')\n",
    "    \n",
    "    course_subject = subject_dict[user_input]\n",
    "    \n",
    "    filter_subject = df_new['Course Subject'] == course_subject\n",
    "    \n",
    "    print('\\n Top 5 Rated Courses in %a \\n' % subject_dict[user_input])\n",
    "    df_rated = df_new[filter_subject].sort_values(by=['Weight Avg'], ascending=False).head()\n",
    "    print(df_rated[['Course Number', 'Course Title']])\n",
    "    \n",
    "    print('\\nTop 5 Popular Courses in %a \\n' % subject_dict[user_input])\n",
    "    df_popular = df_new[filter_subject].sort_values(by=['Participants (Course Content Accessed)'], ascending=False).head()\n",
    "    print(df_popular[['Course Number', 'Course Title']])\n",
    "    \n",
    "    restart = input('\\nWould you like to look for a different subject? (y/n)\\n')\n",
    "    \n",
    "    if restart == 'y' or restart == 'yes':\n",
    "        recommend()\n",
    "    elif restart == 'n' or restart == 'no':\n",
    "        print('\\nGood bye!')\n",
    "    else:\n",
    "        print('\\nWrong input.')\n",
    "    return"
   ]
  },
  {
   "cell_type": "code",
   "execution_count": 108,
   "metadata": {},
   "outputs": [
    {
     "name": "stdout",
     "output_type": "stream",
     "text": [
      "a)  Government, Health, and Social Science\n",
      "b)  Science, Technology, Engineering, and Mathematics\n",
      "c)  Humanities, History, Design, Religion, and Education\n",
      "d)  Computer Science\n",
      "\n",
      "Choose the subject you want to learn: \n",
      "a\n",
      "\n",
      " Top 5 Rated Courses in 'Government, Health, and Social Science' \n",
      "\n",
      "    Course Number                                       Course Title\n",
      "228        PH556x  Practical Improvement Science in Health Care: ...\n",
      "79         PH555x  Improving Global Health: Focusing on Quality a...\n",
      "42          SW25x  Global Health: Case Studies from a Biosocial P...\n",
      "279       LAUNCHx                           Becoming an Entrepreneur\n",
      "218        PH557x   Lessons from Ebola: Preventing the Next Pandemic\n",
      "\n",
      "Top 5 Popular Courses in 'Government, Health, and Social Science' \n",
      "\n",
      "    Course Number                                       Course Title\n",
      "4          PH207x  Health in Numbers: Quantitative Methods in Cli...\n",
      "149       UINOV8x        User Innovation: A Path to Entrepreneurship\n",
      "47        15.390x        Entrepreneurship 101: Who Is Your Customer?\n",
      "57       MAS.S69x                        Big Data and Social Physics\n",
      "111      PH525.1x  Data Analysis for Genomics: Statistics and R f...\n",
      "\n",
      "Would you like to look for a different subject? (y/n)\n",
      "f\n",
      "\n",
      "Wrong input.\n"
     ]
    }
   ],
   "source": [
    "# APPLY THE RECOMMENDATION BY CATEGORY SELECTION\n",
    "\n",
    "recommend()"
   ]
  },
  {
   "cell_type": "markdown",
   "metadata": {},
   "source": [
    "**Thank you so much and please don't forget to upvote if you like my study.**\n",
    "\n",
    "**Melih** "
   ]
  }
 ],
 "metadata": {
  "kernelspec": {
   "display_name": "Python 3",
   "language": "python",
   "name": "python3"
  },
  "language_info": {
   "codemirror_mode": {
    "name": "ipython",
    "version": 3
   },
   "file_extension": ".py",
   "mimetype": "text/x-python",
   "name": "python",
   "nbconvert_exporter": "python",
   "pygments_lexer": "ipython3",
   "version": "3.6.5"
  }
 },
 "nbformat": 4,
 "nbformat_minor": 2
}
